{
 "cells": [
  {
   "cell_type": "code",
   "execution_count": 45,
   "metadata": {},
   "outputs": [
    {
     "name": "stderr",
     "output_type": "stream",
     "text": [
      "100%|██████████| 931/931 [00:55<00:00, 16.67it/s]\n"
     ]
    }
   ],
   "source": [
    "import importlib, match, cv2\n",
    "importlib.reload(match)\n",
    "from match import PosePipline\n",
    "\n",
    "model = PosePipline('weien.mp4', 10)"
   ]
  },
  {
   "cell_type": "code",
   "execution_count": 46,
   "metadata": {},
   "outputs": [],
   "source": [
    "cap = cv2.VideoCapture(0)\n",
    "w1, w2, h = 640, 270, 480\n",
    "output_file = \"pose_output.mp4\"\n",
    "fourcc = cv2.VideoWriter_fourcc(*'mp4v')\n",
    "out = cv2.VideoWriter(output_file, fourcc, 30, (w1+w2, h))\n",
    "model.init()\n",
    "model.max_step = 10\n",
    "while cap.isOpened():\n",
    "    ret, frame = cap.read()\n",
    "    if not ret: break\n",
    "    frame = cv2.flip(frame, 1)    \n",
    "    frame1, frame2, score = model(frame)\n",
    "    frame1, frame2 = cv2.resize(frame1, (w1, h)), cv2.resize(frame2, (w2, h))\n",
    "    frame = cv2.hconcat([frame1, frame2])\n",
    "    text = 'Bad'\n",
    "    color = (0, 0, 0)\n",
    "    if score < 3: \n",
    "        text = 'Perfect'\n",
    "        color = (0, 255, 0)\n",
    "    elif score < 7: \n",
    "        text = 'Good'\n",
    "        color = (0, 255, 255)\n",
    "    cv2.putText(frame, text, (50, 50), cv2.FONT_HERSHEY_SIMPLEX, 2, color, 3)\n",
    "    out.write(frame)\n",
    "    cv2.imshow(\"video\", frame)\n",
    "    if cv2.waitKey(1) & 0xFF == ord('q'): break\n",
    "\n",
    "cap.release()\n",
    "out.release()\n",
    "cv2.destroyAllWindows()"
   ]
  },
  {
   "cell_type": "code",
   "execution_count": 4,
   "metadata": {},
   "outputs": [
    {
     "name": "stdout",
     "output_type": "stream",
     "text": [
      "(480, 640, 3)\n"
     ]
    }
   ],
   "source": [
    "cap = cv2.VideoCapture(0)\n",
    "ret, frame = cap.read()\n",
    "print(frame.shape)\n",
    "cap.release()"
   ]
  }
 ],
 "metadata": {
  "kernelspec": {
   "display_name": "Python 3",
   "language": "python",
   "name": "python3"
  },
  "language_info": {
   "codemirror_mode": {
    "name": "ipython",
    "version": 3
   },
   "file_extension": ".py",
   "mimetype": "text/x-python",
   "name": "python",
   "nbconvert_exporter": "python",
   "pygments_lexer": "ipython3",
   "version": "3.11.1"
  }
 },
 "nbformat": 4,
 "nbformat_minor": 2
}
