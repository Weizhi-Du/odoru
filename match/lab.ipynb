{
 "cells": [
  {
   "cell_type": "code",
   "execution_count": 116,
   "metadata": {},
   "outputs": [],
   "source": [
    "import importlib, match, cv2\n",
    "import matplotlib.pyplot as plt\n",
    "import mediapipe as mp\n",
    "importlib.reload(match)\n",
    "\n",
    "mp_pose = mp.solutions.pose\n",
    "pose_landmark = mp_pose.PoseLandmark\n",
    "pose = mp_pose.Pose()\n",
    "mp_drawing = mp.solutions.drawing_utils"
   ]
  },
  {
   "cell_type": "code",
   "execution_count": 95,
   "metadata": {},
   "outputs": [
    {
     "name": "stdout",
     "output_type": "stream",
     "text": [
      "360 640\n"
     ]
    }
   ],
   "source": [
    "action = match.read_video('weizhi.mp4')\n",
    "target = match.read_video('weien.mp4')\n",
    "w, h = action[0].shape[1]//2, action[0].shape[0]//2\n",
    "print(w, h)"
   ]
  },
  {
   "cell_type": "code",
   "execution_count": 97,
   "metadata": {},
   "outputs": [
    {
     "name": "stderr",
     "output_type": "stream",
     "text": [
      "  0%|          | 0/954 [00:00<?, ?it/s]"
     ]
    },
    {
     "name": "stderr",
     "output_type": "stream",
     "text": [
      "c:\\Users\\fudan\\AppData\\Local\\Programs\\Python\\Python311\\Lib\\site-packages\\google\\protobuf\\symbol_database.py:55: UserWarning: SymbolDatabase.GetPrototype() is deprecated. Please use message_factory.GetMessageClass() instead. SymbolDatabase.GetPrototype() will be removed soon.\n",
      "  warnings.warn('SymbolDatabase.GetPrototype() is deprecated. Please '\n",
      "100%|██████████| 954/954 [00:37<00:00, 25.43it/s]\n",
      "100%|██████████| 931/931 [00:36<00:00, 25.45it/s]\n"
     ]
    }
   ],
   "source": [
    "result1 = match.detect_pose(action)\n",
    "result2 = match.detect_pose(target)"
   ]
  },
  {
   "cell_type": "code",
   "execution_count": 142,
   "metadata": {},
   "outputs": [
    {
     "name": "stdout",
     "output_type": "stream",
     "text": [
      "175.1354545354843 367.25215911865234\n",
      "192.7381432056427 362.63463973999023\n"
     ]
    },
    {
     "data": {
      "text/plain": [
       "0.008507062748542682"
      ]
     },
     "execution_count": 142,
     "metadata": {},
     "output_type": "execute_result"
    }
   ],
   "source": [
    "match.match(result1[0], result2[30], w, h)"
   ]
  },
  {
   "cell_type": "code",
   "execution_count": 81,
   "metadata": {},
   "outputs": [],
   "source": [
    "mp_drawing.draw_landmarks(action[1], result1[1].pose_landmarks, mp.solutions.pose.POSE_CONNECTIONS)"
   ]
  },
  {
   "cell_type": "code",
   "execution_count": 130,
   "metadata": {},
   "outputs": [],
   "source": [
    "cv2.imshow('pose', cv2.resize(target[300], (w, h)))\n",
    "cv2.waitKey(0)\n",
    "cv2.destroyAllWindows()"
   ]
  }
 ],
 "metadata": {
  "kernelspec": {
   "display_name": "Python 3",
   "language": "python",
   "name": "python3"
  },
  "language_info": {
   "codemirror_mode": {
    "name": "ipython",
    "version": 3
   },
   "file_extension": ".py",
   "mimetype": "text/x-python",
   "name": "python",
   "nbconvert_exporter": "python",
   "pygments_lexer": "ipython3",
   "version": "3.11.1"
  }
 },
 "nbformat": 4,
 "nbformat_minor": 2
}
